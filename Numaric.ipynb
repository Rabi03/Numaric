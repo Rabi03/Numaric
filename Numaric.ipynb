{
 "cells": [
  {
   "cell_type": "code",
   "execution_count": 1,
   "metadata": {},
   "outputs": [],
   "source": [
    "#Bisection Method\n",
    "\n",
    "def bisectionMethod(f,a,b,N):\n",
    "\n",
    "    if f(a)*f(b)>=0:\n",
    "        print(\"Bisection method fails.\")\n",
    "        return None\n",
    "    \n",
    "    an=a\n",
    "    bn=b\n",
    "    for _ in range(1,N+1):\n",
    "        mid=(an+bn)/2\n",
    "        fm=f(mid)\n",
    "        if f(an)*fm<0:\n",
    "            an=an\n",
    "            bn=mid\n",
    "        elif f(bn)*fm<0:\n",
    "            an=mid\n",
    "            bn=bn\n",
    "        elif fm==0:\n",
    "            print(\"Found exact solution.\")\n",
    "            return mid\n",
    "        else:\n",
    "            print(\"Bisection method fails.\")\n",
    "            return None\n",
    "    \n",
    "    return (an+bn)/2\n"
   ]
  },
  {
   "cell_type": "code",
   "execution_count": 2,
   "metadata": {},
   "outputs": [],
   "source": [
    "#False Position Method\n",
    "\n",
    "MAX_ITER=10000\n",
    "\n",
    "def falsePositionMethod(f,a,b):\n",
    "    if f(a)*f(b)>=0:\n",
    "        print(\"You have not assumed right a and b\")\n",
    "        return\n",
    "    c=a\n",
    "\n",
    "    for _ in range(MAX_ITER):\n",
    "        c=(a*f(b)-b*f(a))/(f(b)-f(a))\n",
    "\n",
    "        if f(c)==0:\n",
    "            break\n",
    "\n",
    "        if f(a)*f(c)<0:\n",
    "            b=c\n",
    "        else:\n",
    "            a=c\n",
    "    \n",
    "    print(f'The value of root is : {round(c,4)}')\n"
   ]
  },
  {
   "cell_type": "code",
   "execution_count": 3,
   "metadata": {},
   "outputs": [],
   "source": [
    "#Fixed Point Iteration\n",
    "\n",
    "import math\n",
    "\n",
    "f=lambda x:x*x*x + x*x -1\n",
    "g=lambda x: 1/math.sqrt(1+x)\n",
    "\n",
    "def fixedPointIteration(x0,e,N):\n",
    "    step=1\n",
    "    flag=1\n",
    "    condition=True\n",
    "    while (condition):\n",
    "        x1=g(x0)\n",
    "        print('Iteration-%d, x1 = %0.6f and f(x1) = %0.6f' % (step, x1, f(x1)))\n",
    "\n",
    "        x0=x1\n",
    "\n",
    "        step+=1\n",
    "\n",
    "        if step>N:flag=0;break\n",
    "\n",
    "        condition=abs(f(x1))>e\n",
    "    \n",
    "    if flag==1:\n",
    "        print(f'Required root is: {round(x1,8)}')\n",
    "    else:\n",
    "        print('\\nNot Convergent.')\n"
   ]
  },
  {
   "cell_type": "code",
   "execution_count": 4,
   "metadata": {},
   "outputs": [
    {
     "ename": "ValueError",
     "evalue": "could not convert string to float: ''",
     "output_type": "error",
     "traceback": [
      "\u001b[1;31m---------------------------------------------------------------------------\u001b[0m",
      "\u001b[1;31mValueError\u001b[0m                                Traceback (most recent call last)",
      "\u001b[1;32m~\\AppData\\Local\\Temp/ipykernel_1924/2701341711.py\u001b[0m in \u001b[0;36m<module>\u001b[1;34m\u001b[0m\n\u001b[0;32m     21\u001b[0m \u001b[1;33m\u001b[0m\u001b[0m\n\u001b[0;32m     22\u001b[0m \u001b[1;33m\u001b[0m\u001b[0m\n\u001b[1;32m---> 23\u001b[1;33m \u001b[0minitial_geuss\u001b[0m \u001b[1;33m=\u001b[0m \u001b[0mfloat\u001b[0m\u001b[1;33m(\u001b[0m\u001b[0minput\u001b[0m\u001b[1;33m(\u001b[0m\u001b[1;34m\"Provide the inital guess: \"\u001b[0m\u001b[1;33m)\u001b[0m\u001b[1;33m)\u001b[0m\u001b[1;33m\u001b[0m\u001b[1;33m\u001b[0m\u001b[0m\n\u001b[0m\u001b[0;32m     24\u001b[0m \u001b[0mmaximum_steps\u001b[0m \u001b[1;33m=\u001b[0m \u001b[0mint\u001b[0m\u001b[1;33m(\u001b[0m\u001b[0minput\u001b[0m\u001b[1;33m(\u001b[0m\u001b[1;34m\"Provide maximum steps: \"\u001b[0m\u001b[1;33m)\u001b[0m\u001b[1;33m)\u001b[0m\u001b[1;33m\u001b[0m\u001b[1;33m\u001b[0m\u001b[0m\n\u001b[0;32m     25\u001b[0m \u001b[0mtoleratnce\u001b[0m \u001b[1;33m=\u001b[0m \u001b[0mfloat\u001b[0m\u001b[1;33m(\u001b[0m\u001b[0minput\u001b[0m\u001b[1;33m(\u001b[0m\u001b[1;34m\"Provide tolerance: \"\u001b[0m\u001b[1;33m)\u001b[0m\u001b[1;33m)\u001b[0m\u001b[1;33m\u001b[0m\u001b[1;33m\u001b[0m\u001b[0m\n",
      "\u001b[1;31mValueError\u001b[0m: could not convert string to float: ''"
     ]
    }
   ],
   "source": [
    "f=lambda x:x*x + 2*x - 1\n",
    "g=lambda x:2*x+2\n",
    "\n",
    "def NewtonRaphSonMethod(x,e,N):\n",
    "    step=1\n",
    "    flag=1\n",
    "    condition=True\n",
    "\n",
    "    while condition:\n",
    "        x=x-(f(x)/g(x))\n",
    "\n",
    "        step+=1\n",
    "        if step>N:flag=0;break\n",
    "        condition=abs(f(x))>e\n",
    "\n",
    "    \n",
    "    if flag==1:\n",
    "        print(f'Required Root : {round(x,8)}')\n",
    "    else:\n",
    "        print(\"\\nNot Convergent.\")\n",
    "\n",
    "\n",
    "initial_geuss = float(input(\"Provide the inital guess: \"))\n",
    "maximum_steps = int(input(\"Provide maximum steps: \"))\n",
    "toleratnce = float(input(\"Provide tolerance: \"))\n",
    "\n",
    "NewtonRaphSonMethod(initial_geuss,toleratnce,maximum_steps)\n"
   ]
  },
  {
   "cell_type": "code",
   "execution_count": 6,
   "metadata": {},
   "outputs": [
    {
     "name": "stdout",
     "output_type": "stream",
     "text": [
      "Root of the given equation = 0.682326\n",
      "No. of iterations =  5\n"
     ]
    }
   ],
   "source": [
    "f=lambda x:x**3+x-1\n",
    "\n",
    "def secant(x1, x2, E):\n",
    "    n = 0; xm = 0; x0 = 0; c = 0\n",
    "    if (f(x1) * f(x2) < 0):\n",
    "        while True:\n",
    "             \n",
    "            \n",
    "            x0 = ((x1 * f(x2) - x2 * f(x1)) /\n",
    "                            (f(x2) - f(x1)))\n",
    " \n",
    "            \n",
    "            c = f(x1) * f(x0)\n",
    " \n",
    "            \n",
    "            x1 = x2\n",
    "            x2 = x0\n",
    " \n",
    "            \n",
    "            n += 1\n",
    " \n",
    "            \n",
    "            if (c == 0):\n",
    "                break\n",
    "            xm = ((x1 * f(x2) - x2 * f(x1)) /\n",
    "                            (f(x2) - f(x1)))\n",
    "             \n",
    "            if(abs(xm - x0) < E):\n",
    "                break\n",
    "         \n",
    "        print(\"Root of the given equation =\",\n",
    "                               round(x0, 6))\n",
    "        print(\"No. of iterations = \", n)\n",
    "         \n",
    "    else:\n",
    "        print(\"Can not find a root in \",\n",
    "                   \"the given interval\")\n",
    " \n",
    "\n",
    "x1 = 0\n",
    "x2 = 1\n",
    "E = 0.0001\n",
    "secant(x1, x2, E)"
   ]
  },
  {
   "cell_type": "code",
   "execution_count": null,
   "metadata": {},
   "outputs": [],
   "source": []
  }
 ],
 "metadata": {
  "interpreter": {
   "hash": "8a48770bb3c76ada6ec5eec9b53a504a3323976b81e1d1b6d1fc077cb2f95093"
  },
  "kernelspec": {
   "display_name": "Python 3.10.0 64-bit",
   "language": "python",
   "name": "python3"
  },
  "language_info": {
   "codemirror_mode": {
    "name": "ipython",
    "version": 3
   },
   "file_extension": ".py",
   "mimetype": "text/x-python",
   "name": "python",
   "nbconvert_exporter": "python",
   "pygments_lexer": "ipython3",
   "version": "3.10.0"
  },
  "orig_nbformat": 4
 },
 "nbformat": 4,
 "nbformat_minor": 2
}
